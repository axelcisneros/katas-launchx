{
  "cells": [
    {
      "cell_type": "markdown",
      "metadata": {},
      "source": [
        "# Manual de la Nave"
      ]
    },
    {
      "cell_type": "code",
      "execution_count": null,
      "metadata": {},
      "outputs": [],
      "source": [
        "pip install ipywidgets"
      ]
    },
    {
      "cell_type": "code",
      "execution_count": null,
      "metadata": {},
      "outputs": [],
      "source": [
        "import ipywidgets as widgets\n",
        "\n",
        "ignition = widgets.ToggleButton(\n",
        "    value=False,\n",
        "    description='Iniciar Launch',\n",
        "    button_style='success',\n",
        "    tooltip='Engage your Launch',\n",
        "    icon='rocket'\n",
        ")\n",
        "\n",
        "output = widgets.Output()\n",
        "\n",
        "display(ignition, output)\n",
        "\n",
        "def on_value_change(change):\n",
        "    with output:\n",
        "        if change['new'] == True:\n",
        "            print(\"Nave Iniciada!\")\n",
        "        else:   \n",
        "            print(\"Nave Detenida\")\n",
        "\n",
        "ignition.observe(on_value_change, names='value')"
      ]
    },
    {
      "cell_type": "code",
      "execution_count": null,
      "metadata": {},
      "outputs": [],
      "source": [
        "%pip install matplotlib\n",
        "%pip install numpy"
      ]
    },
    {
      "cell_type": "markdown",
      "metadata": {},
      "source": [
        "## Niveles de Oxígeno\n",
        "\n",
        "Muestra diez minutos de niveles de oxígeno en tu nave."
      ]
    },
    {
      "cell_type": "code",
      "execution_count": null,
      "metadata": {},
      "outputs": [],
      "source": [
        "import numpy as np\n",
        "import matplotlib.pyplot as plt\n",
        "data = np.random.default_rng(123456)\n",
        "oxy_nums = data.integers(low=0, high=20, size=15)\n",
        "\n",
        "plt.bar(range(len(oxy_nums)), oxy_nums)\n",
        "plt.show()"
      ]
    },
    {
      "cell_type": "markdown",
      "metadata": {},
      "source": [
        "## Velocidad de la nave\n",
        "\n",
        "Muestra los segundos necesarios para pasar de 0 a 40200 metros por segundo, dada la aceleración de la nave en metros por segundo."
      ]
    },
    {
      "cell_type": "code",
      "execution_count": null,
      "metadata": {},
      "outputs": [],
      "source": [
        "endVelocity = 40200\n",
        "startVelocity = 0\n",
        "acceleration = 500\n",
        "\n",
        "time = (endVelocity - startVelocity) / acceleration\n",
        "print(\"Tiempo para alcanzar la velocidad deseada = \", time)"
      ]
    }
  ],
  "metadata": {
    "interpreter": {
      "hash": "a0d52b866cc004c039c37f1e26208ea02b27af3ef2c97f9764fdf9654a751b3c"
    },
    "kernelspec": {
      "display_name": "Python 3.10.2 64-bit",
      "language": "python",
      "name": "python3"
    },
    "language_info": {
      "codemirror_mode": {
        "name": "ipython",
        "version": 3
      },
      "file_extension": ".py",
      "mimetype": "text/x-python",
      "name": "python",
      "nbconvert_exporter": "python",
      "pygments_lexer": "ipython3",
      "version": "3.10.2"
    },
    "orig_nbformat": 4
  },
  "nbformat": 4,
  "nbformat_minor": 2
}
