{
  "cells": [
    {
      "cell_type": "markdown",
      "metadata": {},
      "source": [
        "# Ejercicio: Uso de funciones en Python"
      ]
    },
    {
      "cell_type": "markdown",
      "metadata": {},
      "source": [
        "### Ejercicio 1: Trabajar con argumentos en funciones\n",
        "\n",
        "Los argumentos requeridos en las funciones se utilizan cuando las funciones necesitan que esos argumentos funcionen correctamente. En este ejercicio, construirás un informe de combustible que requiere información de varias ubicaciones de combustible en todo el cohete.\n",
        "\n"
      ]
    },
    {
      "cell_type": "markdown",
      "metadata": {},
      "source": [
        "> **TIP**\n",
        "> Dedica unos minutos para tratar de encontrar una solución. Luego desplázate hacia abajo hasta la parte inferior para ver si has logrado compilar el programa de acuerdo con las especificaciones\n",
        "\n",
        "Comienza por crear una función que necesite tres lecturas de combustible y devuelva un informe:"
      ]
    },
    {
      "cell_type": "code",
      "execution_count": 1,
      "metadata": {},
      "outputs": [],
      "source": [
        "# Función para leer 3 tanques de combustible y muestre el promedio\n",
        "def reporte(tanque_principal, tanque_respaldo, tanque_hidrogeno):\n",
        "    total_average = (tanque_principal + tanque_respaldo + tanque_hidrogeno) / 3\n",
        "    return f\"\"\"Fuel Report:\n",
        "    Total Average: {total_average}%\n",
        "    Main tank: {tanque_principal}%\n",
        "    External tank: {tanque_respaldo}%\n",
        "    Hydrogen tank: {tanque_hidrogeno}% \n",
        "    \"\"\""
      ]
    },
    {
      "cell_type": "markdown",
      "metadata": {},
      "source": [
        "Ahora que hemos definido la función de informes, vamos a comprobarlo. Para esta misión, los tanques no están llenos:"
      ]
    },
    {
      "cell_type": "code",
      "execution_count": 2,
      "metadata": {},
      "outputs": [
        {
          "name": "stdout",
          "output_type": "stream",
          "text": [
            "Fuel Report:\n",
            "    Total Average: 76.66666666666667%\n",
            "    Main tank: 100%\n",
            "    External tank: 80%\n",
            "    Hydrogen tank: 50% \n",
            "    \n"
          ]
        }
      ],
      "source": [
        "\n",
        "# Llamamos a la función que genera el reporte print(funcion(tanque1, tanque2, tanque3))\n",
        "print(reporte(100, 80, 50))"
      ]
    },
    {
      "cell_type": "markdown",
      "metadata": {},
      "source": [
        "En lugar de simplemente crear el informe, la función también está calculando el promedio. Mejora la legibilidad extrayendo el cálculo promedio de la función en una nueva función para que el promedio se pueda hacer de forma independiente:"
      ]
    },
    {
      "cell_type": "code",
      "execution_count": 3,
      "metadata": {},
      "outputs": [
        {
          "data": {
            "text/plain": [
              "73.33333333333333"
            ]
          },
          "execution_count": 3,
          "metadata": {},
          "output_type": "execute_result"
        }
      ],
      "source": [
        "# Función promedio \n",
        "def promedio(values):\n",
        "    total = sum(values)\n",
        "    t_items = len(values)\n",
        "    return total / t_items\n",
        "promedio([85, 95, 40])"
      ]
    },
    {
      "cell_type": "markdown",
      "metadata": {},
      "source": [
        "Ahora actualiza la función de informes para llamando a la nueva función del promedio:\n"
      ]
    },
    {
      "cell_type": "code",
      "execution_count": 4,
      "metadata": {},
      "outputs": [
        {
          "name": "stdout",
          "output_type": "stream",
          "text": [
            "Tank Report:\n",
            "    Total Average: 33.0%\n",
            "    Main tank: 15%\n",
            "    External tank: 4%\n",
            "    Hydrogen tank: 80% \n",
            "    \n"
          ]
        }
      ],
      "source": [
        "# Actualiza la función\n",
        "def reporte(tanque_principal, tanque_respaldo, tanque_hidrogeno):\n",
        "    return f\"\"\"Tank Report:\n",
        "    Total Average: {promedio([tanque_principal, tanque_respaldo, tanque_hidrogeno])}%\n",
        "    Main tank: {tanque_principal}%\n",
        "    External tank: {tanque_respaldo}%\n",
        "    Hydrogen tank: {tanque_hidrogeno}% \n",
        "    \"\"\"\n",
        "print(reporte(15, 4, 80))"
      ]
    },
    {
      "cell_type": "markdown",
      "metadata": {},
      "source": [
        "> Recuerda: Lo importante es intentarlo, puedes auxiliarte de internet, libros, etc. El objetivo de una kata es la comprobación de la comprensión de la lección y su aplicación inmediata a la resolución de problemas. Go for it!"
      ]
    },
    {
      "cell_type": "markdown",
      "metadata": {},
      "source": [
        "## Ejercicio 2: Trabajo con argumentos de palabra clave"
      ]
    },
    {
      "cell_type": "markdown",
      "metadata": {},
      "source": [
        "### Ejercicio : Trabajar con argumentos de palabras clave en funciones\n",
        "En este ejercicio, construirás un informe de cohete que requiere varias piezas de información, como el tiempo hasta el destino, el combustible a la izquierda y el nombre del destino. Comienza por crear una función que creará un informe preciso de la misión:"
      ]
    },
    {
      "cell_type": "code",
      "execution_count": 5,
      "metadata": {},
      "outputs": [
        {
          "name": "stdout",
          "output_type": "stream",
          "text": [
            "\n",
            "    Vuelo hacia Neptuno.\n",
            "    Tiempo total: 110 min.\n",
            "    Combustible total: 50000 gal.\n",
            "    \n"
          ]
        }
      ],
      "source": [
        "# Función con un informe preciso de la misión. Considera hora de prelanzamiento, tiempo de vuelo, destino, tanque externo y tanque interno\n",
        "def inf_mision(h_planz, vuelo, destino, t_ext, t_int):\n",
        "    return f\"\"\"\n",
        "    Vuelo hacia {destino}.\n",
        "    Tiempo total: {h_planz + vuelo} min.\n",
        "    Combustible total: {t_ext + t_int} gal.\n",
        "    \"\"\"\n",
        "print(inf_mision(30, 80, 'Neptuno', 10000, 40000))"
      ]
    },
    {
      "cell_type": "markdown",
      "metadata": {},
      "source": [
        "La función es problemática porque no se puede adaptar para minutos adicionales o tanques adicionales de combustible. Hazlo más flexible permitiendo cualquier número de pasos basados en el tiempo y cualquier número de tanques. En lugar de usar `*args` y `**kwargs`, aprovecha el hecho de que puedes usar cualquier nombre que desees. Asegurate que la función sea más legible mediante el uso de nombres de variables que están asociados con las entradas, como `*minutes` y `**fuel_reservoirs`:"
      ]
    },
    {
      "cell_type": "code",
      "execution_count": 6,
      "metadata": {},
      "outputs": [
        {
          "name": "stdout",
          "output_type": "stream",
          "text": [
            "\n",
            "    Vuelo hacia Marte.\n",
            "    Tiempo total: 229 min.\n",
            "    Combustible total: 100010 gal.\n",
            "    \n"
          ]
        }
      ],
      "source": [
        "# Escribe tu nueva función de reporte considerando lo anterior\n",
        "def inf_mision(destino, *minutos, **reserva_comb):\n",
        "    return f\"\"\"\n",
        "    Vuelo hacia {destino}.\n",
        "    Tiempo total: {sum(minutos)} min.\n",
        "    Combustible total: {sum(reserva_comb.values())} gal.\n",
        "    \"\"\"\n",
        "print(inf_mision('Marte', 15, 30, 84, 100, principal=10000, secundario=90000, reserva=10))"
      ]
    },
    {
      "cell_type": "markdown",
      "metadata": {},
      "source": [
        "Debido a que el combustible que queda en los tanques es específico de cada tanque, actualiza la función para usar el nombre de cada tanque en el informe:"
      ]
    },
    {
      "cell_type": "code",
      "execution_count": 9,
      "metadata": {},
      "outputs": [
        {
          "name": "stdout",
          "output_type": "stream",
          "text": [
            "\n",
            "    Vuelo hacia Marte.\n",
            "    Tiempo total: 229 min.\n",
            "    Combustible total: 130000 gal.\n",
            "    Tanque principal: Restan 10000 gal.\n",
            "Tanque secundario: Restan 90000 gal.\n",
            "Tanque hidrogeno: Restan 30000 gal.\n",
            "\n"
          ]
        }
      ],
      "source": [
        "# Escribe tu nueva función\n",
        "def inf_mision(destino, *minutos, **reserva_comb):\n",
        "    rep_tank = f\"\"\"\n",
        "    Vuelo hacia {destino}.\n",
        "    Tiempo total: {sum(minutos)} min.\n",
        "    Combustible total: {sum(reserva_comb.values())} gal.\n",
        "    \"\"\"\n",
        "    for tanque, galones in reserva_comb.items():\n",
        "        rep_tank += f\"Tanque {tanque}: Restan {galones} gal.\\n\"\n",
        "    return rep_tank\n",
        "\n",
        "print(inf_mision('Marte', 15, 30, 84, 100, principal=10000, secundario=90000, hidrogeno=30000))"
      ]
    }
  ],
  "metadata": {
    "interpreter": {
      "hash": "205095b8b86ea82a021a8fc2ffba2b3bc9f8d0be25999901963b225939f75778"
    },
    "kernelspec": {
      "display_name": "Python 3.8.10 64-bit ('tmp': conda)",
      "name": "python3"
    },
    "language_info": {
      "codemirror_mode": {
        "name": "ipython",
        "version": 3
      },
      "file_extension": ".py",
      "mimetype": "text/x-python",
      "name": "python",
      "nbconvert_exporter": "python",
      "pygments_lexer": "ipython3",
      "version": "3.10.2"
    },
    "nteract": {
      "version": "nteract-front-end@1.0.0"
    },
    "orig_nbformat": 4
  },
  "nbformat": 4,
  "nbformat_minor": 2
}
